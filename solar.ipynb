{
 "cells": [
  {
   "cell_type": "code",
   "execution_count": null,
   "metadata": {},
   "outputs": [],
   "source": [
    "%matplotlib inline\n",
    "\n",
    "import matplotlib.pyplot as plt\n",
    "import pandas as pd\n",
    "import numpy as np\n",
    "import re\n",
    "import datetime\n",
    "import random\n",
    "from tqdm import tqdm\n",
    "\n",
    "from keras.layers import Input\n",
    "from keras.layers.core import Dense, Dropout\n",
    "from keras.layers.normalization import BatchNormalization\n",
    "from keras.models import Sequential, Model\n",
    "from keras.optimizers import Adam\n",
    "\n",
    "INPUT_LEN = 512\n",
    "OUTPUT_LEN = 48"
   ]
  },
  {
   "cell_type": "code",
   "execution_count": null,
   "metadata": {},
   "outputs": [],
   "source": [
    "def load_original_data():\n",
    "    # データ読み込み\n",
    "    df = pd.read_csv('/root/userspace/private/last_lesson/solar.csv',\n",
    "                     index_col=\"time\", parse_dates=['time'], date_parser=date_parser,\n",
    "                     usecols=['time','solar.current'], dtype=np.float32)\n",
    "\n",
    "    # 欠損データを補完\n",
    "    df = df.resample(\"30T\").mean().fillna(0.0)\n",
    "\n",
    "    # 正規化\n",
    "    normalize = df['solar.current'].max()\n",
    "    df['solar.current'] /= normalize\n",
    "    \n",
    "    # 日単位でデータを分割\n",
    "    per_day = []\n",
    "    for _, group in df.groupby(df.index.date):\n",
    "        per_day.append(group.as_matrix().reshape(-1,))\n",
    "    \n",
    "    # 最初と最後のデータは不完全なので除外\n",
    "    return per_day[1:-1]"
   ]
  },
  {
   "cell_type": "code",
   "execution_count": null,
   "metadata": {},
   "outputs": [],
   "source": [
    "def date_parser(time_str):\n",
    "    if re.search(r'[-+]\\d{2}:\\d{2}' , time_str):\n",
    "        time = pd.to_datetime(re.sub(r'[-+]\\d{2}:\\d{2}', '', time_str))\n",
    "        time = time - datetime.timedelta(minutes=90)\n",
    "    else:\n",
    "        time = pd.to_datetime(time_str)\n",
    "    return time"
   ]
  },
  {
   "cell_type": "code",
   "execution_count": null,
   "metadata": {},
   "outputs": [],
   "source": [
    "# 要素数input_lenのノイズを入力として、要素数output_lenの１日分の発電量ダミーデータを生成\n",
    "def Generator(input_len, output_len):\n",
    "    model = Sequential()\n",
    "    model.add(Dense(units=1024, activation='relu', kernel_initializer='he_normal', input_shape=[input_len]))\n",
    "    model.add(BatchNormalization())\n",
    "    model.add(Dense(units=256, activation='relu', kernel_initializer='he_normal'))\n",
    "    # model.add(BatchNormalization())\n",
    "    model.add(Dense(units=128, activation='relu', kernel_initializer='he_normal'))\n",
    "    # model.add(BatchNormalization())\n",
    "    model.add(Dense(units=output_len, activation='sigmoid'))\n",
    "    model.summary()\n",
    "    \n",
    "    return model"
   ]
  },
  {
   "cell_type": "code",
   "execution_count": null,
   "metadata": {},
   "outputs": [],
   "source": [
    "# shapeのデータが本物か偽物か判定\n",
    "def Discriminator(shape, optimizer=Adam(lr=1e-4)):\n",
    "    model = Sequential()\n",
    "    model.add(Dense(units=1024, activation='relu', kernel_initializer='he_normal', input_shape=shape))\n",
    "    model.add(Dropout(0.3))\n",
    "    model.add(Dense(units=256, activation='relu', kernel_initializer='he_normal'))\n",
    "    model.add(Dropout(0.3))\n",
    "    model.add(Dense(units=64, activation='relu', kernel_initializer='he_normal'))\n",
    "    model.add(Dropout(0.3))\n",
    "    model.add(Dense(units=2, activation='softmax'))\n",
    "    \n",
    "    model.compile(loss='categorical_crossentropy',\n",
    "                  optimizer=optimizer,\n",
    "                  metrics=['accuracy'])\n",
    "    model.summary()\n",
    "    \n",
    "    return model"
   ]
  },
  {
   "cell_type": "code",
   "execution_count": null,
   "metadata": {},
   "outputs": [],
   "source": [
    "def combined_network(generator, discriminator, input_len, opt=Adam(lr=1e-4)):\n",
    "    gan_input = Input(shape=[input_len])\n",
    "    x = generator(gan_input)\n",
    "    gan_output = discriminator(x)\n",
    "    model = Model(gan_input, gan_output)\n",
    "    model.compile(loss='categorical_crossentropy', optimizer=opt)\n",
    "    # model.summary()\n",
    "    \n",
    "    return model"
   ]
  },
  {
   "cell_type": "code",
   "execution_count": null,
   "metadata": {},
   "outputs": [],
   "source": [
    "def make_trainable(model, flg):\n",
    "    model.trainable = flg\n",
    "    for l in model.layers:\n",
    "        l.trainable = flg"
   ]
  },
  {
   "cell_type": "code",
   "execution_count": null,
   "metadata": {},
   "outputs": [],
   "source": [
    "def train(train_data, input_len, generator, discriminator, gan, step=10000, batch_size=128):\n",
    "    for e in tqdm(range(step)):\n",
    "        # 1. バッチの学習で利用するデータの選択 \n",
    "        # バッチサイズの分だけランダムにデータを選択\n",
    "        data_batch = random.sample(train_data, batch_size)\n",
    "        \n",
    "        # バッチサイズの分だけランダムにノイズを生成し、generatorによりデータを生成\n",
    "        noise_gen = np.random.uniform(0,1,size=[batch_size, input_len])\n",
    "        generated_data = generator.predict(noise_gen)\n",
    "        \n",
    "        # 2. Discriminatorの学習をonに切り替える\n",
    "        # Discriminatorが学習するように変更\n",
    "        make_trainable(discriminator,True)\n",
    "        \n",
    "        # 3. Generatorによる生成画像を用いてDiscriminatorの学習\n",
    "        # X = (バッチサイズ分のデータセットのデータ, バッチサイズ分の生成データ)\n",
    "        X = np.concatenate((data_batch, generated_data))\n",
    "        \n",
    "        # y = (バッチサイズ分のTrue(本物), バッチサイズ分のFalse(偽物))\n",
    "        y = np.zeros([2*batch_size, 2])\n",
    "        y[:batch_size,1] = 1\n",
    "        y[batch_size:,0] = 1\n",
    "        \n",
    "        # Discriminatorのtrain\n",
    "        discriminator.train_on_batch(X,y)\n",
    "        \n",
    "        # 4. Discriminatorの学習をoffに切り替える\n",
    "        # Discriminatorが学習しないように変更\n",
    "        make_trainable(discriminator,False)\n",
    "    \n",
    "        # 5. Generatorの学習\n",
    "        # バッチサイズの分だけランダムにノイズを生成\n",
    "        noise_gen = np.random.uniform(0,1,size=[batch_size, input_len])\n",
    "        \n",
    "        # y = (バッチサイズ分のTrue(本物))\n",
    "        # 実際には生成した画像なのでDiscriminatorとしては偽物と判断すべきだが、Genaratorの学習なので生成したデータを本物と判断するように学習させる\n",
    "        y2 = np.zeros([batch_size,2])\n",
    "        y2[:,1] = 1\n",
    "        \n",
    "        # Generatorのtrain\n",
    "        gan.train_on_batch(noise_gen, y2)"
   ]
  },
  {
   "cell_type": "code",
   "execution_count": null,
   "metadata": {},
   "outputs": [],
   "source": [
    "# 生成したデータをプロットする\n",
    "def plot_generated_data(generator, input_len=INPUT_LEN, plot_x=4, plot_y=3):\n",
    "    noise = np.random.uniform(0,1,size=[plot_x*plot_y, input_len])\n",
    "    generated_data = generator.predict(noise)\n",
    "    \n",
    "    fig = plt.figure(figsize=(12, 12))\n",
    "    fig.subplots_adjust(left=0, right=1, bottom=0, top=0.5, hspace=0.05, wspace=0.05)\n",
    "    for y in range(plot_y):\n",
    "        for x in range(plot_x):\n",
    "            idx = x + y*plot_x\n",
    "            ax = fig.add_subplot(plot_y, plot_x, idx + 1, xticks=[], yticks=[])\n",
    "            ax.plot(generated_data[idx])"
   ]
  },
  {
   "cell_type": "code",
   "execution_count": null,
   "metadata": {},
   "outputs": [],
   "source": [
    "# 生成したデータを重ね合わせてプロットする\n",
    "def plot_generated_data2(generator, input_len=INPUT_LEN, num=365):\n",
    "    for idx in range(num):\n",
    "        noise = np.random.uniform(0,1,size=[num, input_len])\n",
    "        generated_data = generator.predict(noise)\n",
    "    \n",
    "        plt.plot(generated_data[idx])"
   ]
  },
  {
   "cell_type": "code",
   "execution_count": null,
   "metadata": {},
   "outputs": [],
   "source": [
    "# モデル作成、学習、結果表示までまとめて実行\n",
    "def execute(step=10000, data_size=0, batch_size=128):\n",
    "    generator = Generator(INPUT_LEN, OUTPUT_LEN)\n",
    "    discriminator = Discriminator(original_data[0].shape)\n",
    "    make_trainable(discriminator, False)\n",
    "    gan = combined_network(generator, discriminator, INPUT_LEN)\n",
    "    \n",
    "    train_data = original_data\n",
    "    if data_size > 0:\n",
    "        train_data = original_data[0:data_size]\n",
    "\n",
    "    train(train_data, INPUT_LEN, generator, discriminator, gan, step=step, batch_size=batch_size)\n",
    "    \n",
    "    return generator"
   ]
  },
  {
   "cell_type": "code",
   "execution_count": null,
   "metadata": {},
   "outputs": [],
   "source": [
    "original_data =  load_original_data()"
   ]
  },
  {
   "cell_type": "code",
   "execution_count": null,
   "metadata": {},
   "outputs": [],
   "source": [
    "fig = plt.figure(figsize=(12, 12))\n",
    "fig.subplots_adjust(left=0, right=1, bottom=0, top=0.5, hspace=0.05, wspace=0.05)\n",
    "for y in range(3):\n",
    "    for x in range(4):\n",
    "        idx = x + y*4\n",
    "        ax = fig.add_subplot(3, 4, idx + 1, xticks=[], yticks=[])\n",
    "        ax.plot(original_data[idx*30])"
   ]
  },
  {
   "cell_type": "code",
   "execution_count": null,
   "metadata": {},
   "outputs": [],
   "source": [
    "for idx in range(365):\n",
    "    plt.plot(original_data[idx])"
   ]
  },
  {
   "cell_type": "code",
   "execution_count": null,
   "metadata": {},
   "outputs": [],
   "source": [
    "model_100_0_128 = execute(step=100, data_size=0, batch_size=128)"
   ]
  },
  {
   "cell_type": "code",
   "execution_count": null,
   "metadata": {},
   "outputs": [],
   "source": [
    "plot_generated_data(model_100_0_128)"
   ]
  },
  {
   "cell_type": "code",
   "execution_count": null,
   "metadata": {},
   "outputs": [],
   "source": [
    "plot_generated_data2(model_100_0_128)"
   ]
  },
  {
   "cell_type": "code",
   "execution_count": null,
   "metadata": {},
   "outputs": [],
   "source": [
    "model_1000_0_128 = execute(step=1000, data_size=0, batch_size=128)"
   ]
  },
  {
   "cell_type": "code",
   "execution_count": null,
   "metadata": {},
   "outputs": [],
   "source": [
    "plot_generated_data(model_1000_0_128)"
   ]
  },
  {
   "cell_type": "code",
   "execution_count": null,
   "metadata": {},
   "outputs": [],
   "source": [
    "plot_generated_data2(model_1000_0_128)"
   ]
  },
  {
   "cell_type": "code",
   "execution_count": null,
   "metadata": {},
   "outputs": [],
   "source": [
    "model_10000_0_128 = execute(step=10000, data_size=0, batch_size=128)"
   ]
  },
  {
   "cell_type": "code",
   "execution_count": null,
   "metadata": {},
   "outputs": [],
   "source": [
    "plot_generated_data(model_10000_0_128)"
   ]
  },
  {
   "cell_type": "code",
   "execution_count": null,
   "metadata": {},
   "outputs": [],
   "source": [
    "plot_generated_data2(model_10000_0_128)"
   ]
  },
  {
   "cell_type": "code",
   "execution_count": null,
   "metadata": {},
   "outputs": [],
   "source": [
    "model_100000_0_128 = execute(step=100000, data_size=0, batch_size=128)"
   ]
  },
  {
   "cell_type": "code",
   "execution_count": null,
   "metadata": {},
   "outputs": [],
   "source": [
    "plot_generated_data(model_100000_0_128)"
   ]
  },
  {
   "cell_type": "code",
   "execution_count": null,
   "metadata": {},
   "outputs": [],
   "source": [
    "plot_generated_data2(model_100000_0_128)"
   ]
  },
  {
   "cell_type": "code",
   "execution_count": null,
   "metadata": {},
   "outputs": [],
   "source": [
    "model_10000_365_50 = execute(step=10000, data_size=365, batch_size=50)"
   ]
  },
  {
   "cell_type": "code",
   "execution_count": null,
   "metadata": {},
   "outputs": [],
   "source": [
    "plot_generated_data(model_10000_365_50)"
   ]
  },
  {
   "cell_type": "code",
   "execution_count": null,
   "metadata": {},
   "outputs": [],
   "source": [
    "plot_generated_data2(model_10000_365_50)"
   ]
  },
  {
   "cell_type": "code",
   "execution_count": null,
   "metadata": {},
   "outputs": [],
   "source": [
    "model_100000_365_50 = execute(step=100000, data_size=365, batch_size=50)"
   ]
  },
  {
   "cell_type": "code",
   "execution_count": null,
   "metadata": {},
   "outputs": [],
   "source": [
    "plot_generated_data(model_100000_365_50)"
   ]
  },
  {
   "cell_type": "code",
   "execution_count": null,
   "metadata": {},
   "outputs": [],
   "source": [
    "plot_generated_data2(model_100000_365_50)"
   ]
  },
  {
   "cell_type": "code",
   "execution_count": null,
   "metadata": {},
   "outputs": [],
   "source": [
    "model_10000_30_15 = execute(step=10000, data_size=30, batch_size=15)"
   ]
  },
  {
   "cell_type": "code",
   "execution_count": null,
   "metadata": {},
   "outputs": [],
   "source": [
    "plot_generated_data(model_10000_30_15)"
   ]
  },
  {
   "cell_type": "code",
   "execution_count": null,
   "metadata": {},
   "outputs": [],
   "source": [
    "plot_generated_data2(model_10000_30_15)"
   ]
  },
  {
   "cell_type": "code",
   "execution_count": null,
   "metadata": {},
   "outputs": [],
   "source": [
    "model_100000_30_15 = execute(step=100000, data_size=30, batch_size=15)"
   ]
  },
  {
   "cell_type": "code",
   "execution_count": null,
   "metadata": {},
   "outputs": [],
   "source": [
    "plot_generated_data(model_100000_30_15)"
   ]
  },
  {
   "cell_type": "code",
   "execution_count": null,
   "metadata": {},
   "outputs": [],
   "source": [
    "plot_generated_data2(model_100000_30_15)"
   ]
  },
  {
   "cell_type": "code",
   "execution_count": null,
   "metadata": {},
   "outputs": [],
   "source": [
    "model_1000_365_50 = execute(step=1000, data_size=365, batch_size=50)"
   ]
  },
  {
   "cell_type": "code",
   "execution_count": null,
   "metadata": {},
   "outputs": [],
   "source": [
    "plot_generated_data(model_1000_365_50)"
   ]
  },
  {
   "cell_type": "code",
   "execution_count": null,
   "metadata": {},
   "outputs": [],
   "source": [
    "plot_generated_data2(model_1000_365_50)"
   ]
  },
  {
   "cell_type": "code",
   "execution_count": null,
   "metadata": {},
   "outputs": [],
   "source": [
    "model_100_365_50 = execute(step=100, data_size=365, batch_size=50)"
   ]
  },
  {
   "cell_type": "code",
   "execution_count": null,
   "metadata": {},
   "outputs": [],
   "source": [
    "plot_generated_data(model_100_365_50)"
   ]
  },
  {
   "cell_type": "code",
   "execution_count": null,
   "metadata": {},
   "outputs": [],
   "source": [
    "plot_generated_data2(model_100_365_50)"
   ]
  },
  {
   "cell_type": "code",
   "execution_count": null,
   "metadata": {},
   "outputs": [],
   "source": [
    "model_1000_30_15 = execute(step=1000, data_size=30, batch_size=15)"
   ]
  },
  {
   "cell_type": "code",
   "execution_count": null,
   "metadata": {},
   "outputs": [],
   "source": [
    "plot_generated_data(model_1000_30_15)"
   ]
  },
  {
   "cell_type": "code",
   "execution_count": null,
   "metadata": {},
   "outputs": [],
   "source": [
    "plot_generated_data2(model_1000_30_15)"
   ]
  },
  {
   "cell_type": "code",
   "execution_count": null,
   "metadata": {},
   "outputs": [],
   "source": [
    "model_100_30_15 = execute(step=100, data_size=30, batch_size=15)"
   ]
  },
  {
   "cell_type": "code",
   "execution_count": null,
   "metadata": {},
   "outputs": [],
   "source": [
    "plot_generated_data(model_100_30_15)"
   ]
  },
  {
   "cell_type": "code",
   "execution_count": null,
   "metadata": {},
   "outputs": [],
   "source": [
    "plot_generated_data2(model_100_30_15)"
   ]
  },
  {
   "cell_type": "code",
   "execution_count": null,
   "metadata": {},
   "outputs": [],
   "source": [
    "model_5000_365_50 = execute(step=5000, data_size=365, batch_size=50)"
   ]
  },
  {
   "cell_type": "code",
   "execution_count": null,
   "metadata": {},
   "outputs": [],
   "source": [
    "plot_generated_data(model_5000_365_50)"
   ]
  },
  {
   "cell_type": "code",
   "execution_count": null,
   "metadata": {},
   "outputs": [],
   "source": [
    "plot_generated_data2(model_5000_365_50)"
   ]
  },
  {
   "cell_type": "code",
   "execution_count": null,
   "metadata": {},
   "outputs": [],
   "source": [
    "model_3000_30_15 = execute(step=3000, data_size=30, batch_size=15)"
   ]
  },
  {
   "cell_type": "code",
   "execution_count": null,
   "metadata": {},
   "outputs": [],
   "source": [
    "plot_generated_data(model_3000_30_15)"
   ]
  },
  {
   "cell_type": "code",
   "execution_count": null,
   "metadata": {},
   "outputs": [],
   "source": [
    "plot_generated_data2(model_3000_30_15)"
   ]
  },
  {
   "cell_type": "code",
   "execution_count": null,
   "metadata": {},
   "outputs": [],
   "source": [
    "for idx in range(30):\n",
    "    plt.plot(original_data[idx])"
   ]
  },
  {
   "cell_type": "code",
   "execution_count": null,
   "metadata": {},
   "outputs": [],
   "source": [
    "model_2000_30_15 = execute(step=2000, data_size=30, batch_size=15)"
   ]
  },
  {
   "cell_type": "code",
   "execution_count": null,
   "metadata": {},
   "outputs": [],
   "source": [
    "plot_generated_data(model_2000_30_15)"
   ]
  },
  {
   "cell_type": "code",
   "execution_count": null,
   "metadata": {},
   "outputs": [],
   "source": [
    "plot_generated_data2(model_2000_30_15)"
   ]
  },
  {
   "cell_type": "code",
   "execution_count": null,
   "metadata": {},
   "outputs": [],
   "source": [
    "model_10_30_15 = execute(step=10, data_size=30, batch_size=15)"
   ]
  },
  {
   "cell_type": "code",
   "execution_count": null,
   "metadata": {},
   "outputs": [],
   "source": [
    "model_1500_30_15 = execute(step=1500, data_size=30, batch_size=15)"
   ]
  },
  {
   "cell_type": "code",
   "execution_count": null,
   "metadata": {},
   "outputs": [],
   "source": [
    "plot_generated_data(model_1500_30_15)"
   ]
  },
  {
   "cell_type": "code",
   "execution_count": null,
   "metadata": {},
   "outputs": [],
   "source": [
    "plot_generated_data2(model_1500_30_15)"
   ]
  },
  {
   "cell_type": "code",
   "execution_count": null,
   "metadata": {},
   "outputs": [],
   "source": [
    "model_1000_30_15 = execute(step=1000, data_size=30, batch_size=15)"
   ]
  },
  {
   "cell_type": "code",
   "execution_count": null,
   "metadata": {},
   "outputs": [],
   "source": [
    "plot_generated_data(model_1000_30_15)"
   ]
  },
  {
   "cell_type": "code",
   "execution_count": null,
   "metadata": {},
   "outputs": [],
   "source": [
    "plot_generated_data2(model_1000_30_15)"
   ]
  },
  {
   "cell_type": "code",
   "execution_count": null,
   "metadata": {},
   "outputs": [],
   "source": []
  }
 ],
 "metadata": {
  "kernelspec": {
   "display_name": "Python 3",
   "language": "python",
   "name": "python3"
  },
  "language_info": {
   "codemirror_mode": {
    "name": "ipython",
    "version": 3
   },
   "file_extension": ".py",
   "mimetype": "text/x-python",
   "name": "python",
   "nbconvert_exporter": "python",
   "pygments_lexer": "ipython3",
   "version": "3.5.2"
  }
 },
 "nbformat": 4,
 "nbformat_minor": 2
}
